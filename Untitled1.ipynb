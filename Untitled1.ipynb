{
 "cells": [
  {
   "cell_type": "code",
   "execution_count": 1,
   "metadata": {},
   "outputs": [],
   "source": [
    "import PyPDF2\n",
    "import os\n",
    "from gtts import gTTS "
   ]
  },
  {
   "cell_type": "code",
   "execution_count": 2,
   "metadata": {},
   "outputs": [
    {
     "data": {
      "text/plain": [
       "0"
      ]
     },
     "execution_count": 2,
     "metadata": {},
     "output_type": "execute_result"
    }
   ],
   "source": [
    "path = open('api.pdf', 'rb')\n",
    "\n",
    "#Now we haveto sysc through the pdf...\n",
    "#we are calling the pdf file to the pdfreader for extracting the content\n",
    "pdfReader = PyPDF2.PdfFileReader(path)\n",
    "\n",
    "#we are navigating throgh the page \n",
    "from_page = pdfReader.getPage(0)\n",
    "\n",
    "#extracting the text from the pdf ....\n",
    "Pagedata = from_page.extractText()\n",
    "\n",
    "#we are sending the data to the google api and from there it is doing the mp3 converting thing for us\n",
    "speech = gTTS(text = Pagedata, lang = 'en', slow = True) \n",
    "#after that with the help of speech we are saving it in the local folder\n",
    "speech.save('text.mp3')\n",
    "#we are callin os to start our mp3 file \n",
    "os.system(\"start text.mp3\")"
   ]
  },
  {
   "cell_type": "code",
   "execution_count": null,
   "metadata": {},
   "outputs": [],
   "source": []
  }
 ],
 "metadata": {
  "kernelspec": {
   "display_name": "Python 3",
   "language": "python",
   "name": "python3"
  },
  "language_info": {
   "codemirror_mode": {
    "name": "ipython",
    "version": 3
   },
   "file_extension": ".py",
   "mimetype": "text/x-python",
   "name": "python",
   "nbconvert_exporter": "python",
   "pygments_lexer": "ipython3",
   "version": "3.8.5"
  }
 },
 "nbformat": 4,
 "nbformat_minor": 4
}
